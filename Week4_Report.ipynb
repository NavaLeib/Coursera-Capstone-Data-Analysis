{
 "cells": [
  {
   "cell_type": "markdown",
   "metadata": {},
   "source": [
    "## Analyzing Subway Stations in Toronto "
   ]
  },
  {
   "cell_type": "markdown",
   "metadata": {},
   "source": [
    "### (Part I) Background"
   ]
  },
  {
   "cell_type": "markdown",
   "metadata": {},
   "source": [
    "Toronto's main public transportation system is operated by the Toronto Transit Commission (TTC). The backbone of its public transport network is the Toronto subway system, which includes three heavy-rail rapid transit lines spanning the city, including the U-shaped Line 1 and east–west Line 2 [1]. "
   ]
  },
  {
   "cell_type": "markdown",
   "metadata": {},
   "source": [
    "The stations are charactersitically different one from the others. In particular, the porpuse (or characterstic) of the subway station may be related to the nearby central vanues. For example, subway station near the university has different features than station in rural area. These lead us to the first stage of the analysis, which is to examine the present subway network. "
   ]
  },
  {
   "cell_type": "markdown",
   "metadata": {},
   "source": [
    "The transit score in general, and the vicinity to subway station in particular my be one of the important features in the wellbeing of the citizents of the Great Toronoto Area (GTA). Findings suggest that low-income households, on average, see greater improvement in travel time savings to destinations in Toronto than other groups and the overall population [2]        "
   ]
  },
  {
   "cell_type": "markdown",
   "metadata": {},
   "source": [
    "Analyzing the present state of the GTA's subway network, together with spatial and demographical features of the neighboorhoods themselfs will help the leader to decide (where assume limited scources) wheather this current situation is satisfacory or that urgent new subway stations or lines must be added. "
   ]
  },
  {
   "cell_type": "markdown",
   "metadata": {},
   "source": [
    "### (Part II) Questions and Data to be Used"
   ]
  },
  {
   "cell_type": "markdown",
   "metadata": {},
   "source": [
    "**Goal:**\n",
    "\n",
    "The main questions surface in this analysis are: \n",
    "\n",
    "1) What are the main features of the subway stations? (e.g. the group might be end-stations, transfer to other lines stations, stations near uniqie featuers such as airpost, univierty, malls) \n",
    "\n",
    "2) How the differnt groups of stations spatilaly distributed?\n",
    "\n",
    "3) Is there a relation beween the demographic features of the neighborhoods the subway crossing them? \n",
    "\n",
    "4) Can we suggest improvemnt  or additional subway stations that need to be build using the data from the above questions. \n",
    "\n",
    "**Data and Methods:**\n",
    "\n",
    "*A: Clustering Subway Stations Using Nearbe Venues*\n",
    "\n",
    "To analyzed the current state of the subway network, together wuth the differnt features of each station, I will use the FourSquares database. First, I will extarct from FourSquares the subway stations in Toronto. Next, I will explore the nearby vanues for every subway stations found in prevous step. In the last step of the examination the current state, I will cluster the stations using similarities on their nearby values.\n",
    "\n",
    "*B: Clustering Subway Stations Using Demographical Features of the Neighborhood*\n",
    "\n",
    "To explore the current state of the subway netwrok, in relation to the dempgraphyical features of the population nearby, I will use data piblished in Wikipedia [3], where I will concentrate of two features of each neighborhood; yearly income, and its density (i.e population/areal unit). Here, I want to eaxmine wheather the current state if satispfying. Here, I since we expect that low income households communities and dense neighboorhood, will be more benefical from having subway station nearby, we hope to find these neighboorhood transit score to be high. \n",
    "\n",
    "*C: Clustering Toronto Neighborhoods Using Demographical Features*\n",
    "Here I assume that the current state of the subway network and the number of stations are not sufficint and some improvemnt must be done. By exploring the most dense neighboorhoods or neighborhoods with low-income household, we can suggest improvemnt to the current routes, and to detect what neighboorhoods that need (relatiavly urgently) new stations.  \n",
    "\n"
   ]
  },
  {
   "cell_type": "markdown",
   "metadata": {},
   "source": [
    "### References\n",
    "\n",
    "[1] https://en.wikipedia.org/wiki/Public_transportation_in_Toronto\n",
    "\n",
    "[2] http://www.metrolinx.com/en/docs/pdf/board_agenda/20190912/20190912_BoardMtg_Ontario_Line_Initial_Business_Case_EN.pdf\n",
    "\n",
    "[3] https://en.wikipedia.org/wiki/Demographics_of_Toronto_neighbourhoods"
   ]
  }
 ],
 "metadata": {
  "kernelspec": {
   "display_name": "Python",
   "language": "python",
   "name": "conda-env-python-py"
  },
  "language_info": {
   "codemirror_mode": {
    "name": "ipython",
    "version": 3
   },
   "file_extension": ".py",
   "mimetype": "text/x-python",
   "name": "python",
   "nbconvert_exporter": "python",
   "pygments_lexer": "ipython3",
   "version": "3.6.11"
  }
 },
 "nbformat": 4,
 "nbformat_minor": 4
}
